{
 "cells": [
  {
   "cell_type": "code",
   "execution_count": 1,
   "metadata": {},
   "outputs": [],
   "source": [
    "import paddle\n",
    "import paddle.fluid as fluid\n",
    "from paddle.fluid.dygraph import Linear\n",
    "import numpy as np\n",
    "import utils\n",
    "\n",
    "import matplotlib\n",
    "%matplotlib inline\n",
    "import matplotlib.pyplot as plt\n",
    "from IPython import display\n",
    "from PIL import Image"
   ]
  },
  {
   "cell_type": "code",
   "execution_count": 2,
   "metadata": {},
   "outputs": [],
   "source": [
    "def draw_line(costs, learning_rate):\n",
    "    \"\"\"\n",
    "    动态绘制训练中costs的曲线\n",
    "    :param costs: 记录了训练过程的cost变化的list\n",
    "    \"\"\"\n",
    "    plt.clf()\n",
    "    plt.plot(costs)\n",
    "    plt.title(\"Learning rate = %f\" % (learning_rate))\n",
    "    plt.ylabel('cost')\n",
    "    plt.xlabel('iterations')\n",
    "    plt.pause(0.05)\n",
    "    display.clear_output(wait=True)"
   ]
  },
  {
   "cell_type": "code",
   "execution_count": 3,
   "metadata": {},
   "outputs": [],
   "source": [
    "def get_data():\n",
    "    \"\"\"\n",
    "    数据预处理\n",
    "    \"\"\"\n",
    "    # 获取原始数据\n",
    "    train_x_ori, train_y_set, test_x_ori, test_y_set, classes = utils.load_data_sets()\n",
    "    # m_train: 训练集样本数量\n",
    "    m_train = train_x_ori.shape[0]\n",
    "    # m_test: 测试集样本数量\n",
    "    m_test = test_x_ori.shape[0]\n",
    "    # 图片样本长宽像素数量\n",
    "    num_px_x = train_x_ori.shape[1]\n",
    "    num_px_y = train_x_ori.shape[2]\n",
    "\n",
    "    # 定义输入数据维度，注意样本图像是3通道\n",
    "    DATA_DIM = num_px_x * num_px_y * 3\n",
    "\n",
    "    # 转换数据形状为\n",
    "    train_x_flatten = train_x_ori.reshape(m_train, -1)\n",
    "    test_x_flatten = test_x_ori.reshape(m_test, -1)\n",
    "\n",
    "    # 归一化处理\n",
    "    train_x_set = train_x_flatten / 255\n",
    "    test_x_set = test_x_flatten / 255\n",
    "\n",
    "    # 合并数据\n",
    "    train_set = np.hstack((train_x_set, train_y_set.T))\n",
    "    test_set = np.hstack((test_x_set, test_y_set.T))\n",
    "\n",
    "    return train_set, test_set, DATA_DIM, classes"
   ]
  },
  {
   "cell_type": "code",
   "execution_count": 4,
   "metadata": {},
   "outputs": [],
   "source": [
    "# 读取数据集以及相关参数\n",
    "global TRAIN_SET\n",
    "global TEST_SET\n",
    "global DATA_DIM\n",
    "global CLASSES\n",
    "TRAIN_SET, TEST_SET, DATA_DIM, CLASSES = get_data()"
   ]
  },
  {
   "cell_type": "code",
   "execution_count": 5,
   "metadata": {},
   "outputs": [],
   "source": [
    "def read_data(data_set):\n",
    "    \"\"\"\n",
    "    构造reader\n",
    "    :param data_set: 要获取的数据的数据集\n",
    "    :return: reader: 用户返回训练数据及数据标签的生成器(generator)\n",
    "    \"\"\"\n",
    "    def reader():\n",
    "        \"\"\"\n",
    "        一个reader生成器\n",
    "        :return: 每次训练数据及数据标签\n",
    "        data[:-1]: 训练数据\n",
    "        data[-1:]: 数据标签\n",
    "        \"\"\"\n",
    "        for data in data_set:\n",
    "            yield data[:-1], data[-1:]\n",
    "    return reader"
   ]
  },
  {
   "cell_type": "code",
   "execution_count": 6,
   "metadata": {},
   "outputs": [],
   "source": [
    "# 定义reader\n",
    "# 定义buf_size和batch_size大小\n",
    "buf_size = 1000\n",
    "batch_size = 256\n",
    "\n",
    "# 训练集reader\n",
    "train_reader = fluid.io.batch(\n",
    "    reader=paddle.reader.shuffle(\n",
    "        reader=read_data(TRAIN_SET),\n",
    "        buf_size=buf_size\n",
    "    ),\n",
    "    batch_size=batch_size\n",
    ")\n",
    "# 测试集reader\n",
    "test_reader = fluid.io.batch(\n",
    "    reader=paddle.reader.shuffle(\n",
    "        reader=read_data(TEST_SET),\n",
    "        buf_size=buf_size\n",
    "    ),\n",
    "    batch_size=batch_size\n",
    ")"
   ]
  },
  {
   "cell_type": "code",
   "execution_count": 8,
   "metadata": {},
   "outputs": [],
   "source": [
    "# 定义多层感知器分类器\n",
    "class Multilayer_perceptron(fluid.dygraph.Layer):\n",
    "    def __init__(self,name_scope):\n",
    "        super(Multilayer_perceptron, self).__init__(name_scope)\n",
    "        # 隐藏层1，全连接层，输出大小为20，激活函数为relu\n",
    "        self.hidden1 = Linear(input_dim=DATA_DIM, output_dim=20, act='relu')\n",
    "        # 隐藏层2，全连接层，输出大小为7，激活函数为relu\n",
    "        self.hidden2 = Linear(input_dim=20, output_dim=7, act='relu')\n",
    "        # 隐藏层3，全连接层，输出大小为5，激活函数为relu\n",
    "        self.hidden3 = Linear(input_dim=7, output_dim=5, act='relu')\n",
    "        # 输出层，全连接层，输出大小为10，对应结果的十个类别，激活函数为softmax\n",
    "        self.fc = Linear(input_dim=5, output_dim=2, act='softmax')\n",
    "            \n",
    "    def forward(self,x):\n",
    "        x = self.hidden1(x)\n",
    "        x = self.hidden2(x)\n",
    "        x = fluid.layers.dropout(x, dropout_prob=0.5)\n",
    "        x = self.hidden3(x)\n",
    "        x = self.fc(x)\n",
    "        return x"
   ]
  },
  {
   "cell_type": "code",
   "execution_count": 9,
   "metadata": {},
   "outputs": [],
   "source": [
    "# 定义飞桨动态图工作环境\n",
    "with fluid.dygraph.guard(fluid.CUDAPlace(0)):\n",
    "    # 实例化模型\n",
    "    # Softmax分类器\n",
    "    # model = Softmax_regression('catornocat')\n",
    "    # 定义多层感知器分类器\n",
    "    model = Multilayer_perceptron('catornocat')\n",
    "    \n",
    "    # 开启模型训练模式\n",
    "    model.train()\n",
    "    # 使用Adam优化器\n",
    "    # 学习率为0.000075\n",
    "    opt = fluid.optimizer.Adam(learning_rate=0.000075, parameter_list=model.parameters())\n",
    "    # 迭代次数设为2500\n",
    "    EPOCH_NUM = 2500\n"
   ]
  },
  {
   "cell_type": "code",
   "execution_count": 10,
   "metadata": {},
   "outputs": [
    {
     "data": {
      "image/png": "[encoded data removed]",
      "text/plain": [
       "<Figure size 432x288 with 1 Axes>"
      ]
     },
     "metadata": {},
     "output_type": "display_data"
    }
   ],
   "source": [
    "with fluid.dygraph.guard(fluid.CUDAPlace(0)):\n",
    "    # 记录每次的损失值，用于绘图\n",
    "    costs = []\n",
    "    # 定义外层循环\n",
    "    for pass_num in range(EPOCH_NUM):\n",
    "        # 定义内层循环\n",
    "        for batch_id,data in enumerate(train_reader()):\n",
    "            # 调整数据shape使之适合模型\n",
    "            images = np.array([x[0].reshape(DATA_DIM) for x in data],np.float32)\n",
    "            labels = np.array([x[1] for x in data]).astype('int64').reshape(-1,1)\n",
    "            \n",
    "            # 将numpy数据转为飞桨动态图variable形式\n",
    "            image = fluid.dygraph.to_variable(images)\n",
    "            label = fluid.dygraph.to_variable(labels)\n",
    "            \n",
    "            # 前向计算\n",
    "            predict = model(image)\n",
    "\n",
    "            # 计算损失\n",
    "            # 使用交叉熵损失函数\n",
    "            loss = fluid.layers.cross_entropy(predict,label)\n",
    "            avg_loss = fluid.layers.mean(loss)\n",
    "\n",
    "            # 计算精度\n",
    "            # acc = fluid.layers.accuracy(predict,label)\n",
    "            \n",
    "            # 绘图\n",
    "            costs.append(avg_loss.numpy()[0])\n",
    "            draw_line(costs, 0.000075)\n",
    "\n",
    "            # 反向传播\n",
    "            avg_loss.backward()\n",
    "            # 最小化loss,更新参数\n",
    "            opt.minimize(avg_loss)\n",
    "            # 清除梯度\n",
    "            model.clear_gradients()\n",
    "\n",
    "    # 保存模型文件到指定路径\n",
    "    fluid.save_dygraph(model.state_dict(), 'catornocat')"
   ]
  },
  {
   "cell_type": "code",
   "execution_count": 13,
   "metadata": {},
   "outputs": [
    {
     "name": "stdout",
     "output_type": "stream",
     "text": [
      "index 0, truth 1, infer 1\n",
      "index 1, truth 0, infer 0\n",
      "index 2, truth 1, infer 0\n",
      "index 3, truth 1, infer 1\n",
      "index 4, truth 0, infer 0\n",
      "index 5, truth 1, infer 1\n",
      "index 6, truth 1, infer 1\n",
      "index 7, truth 0, infer 1\n",
      "index 8, truth 1, infer 1\n",
      "index 9, truth 1, infer 1\n",
      "index 10, truth 1, infer 1\n",
      "index 11, truth 1, infer 1\n",
      "index 12, truth 0, infer 0\n",
      "index 13, truth 0, infer 0\n",
      "index 14, truth 1, infer 1\n",
      "index 15, truth 0, infer 0\n",
      "index 16, truth 1, infer 1\n",
      "index 17, truth 1, infer 0\n",
      "index 18, truth 0, infer 1\n",
      "index 19, truth 1, infer 1\n",
      "index 20, truth 1, infer 1\n",
      "index 21, truth 1, infer 1\n",
      "index 22, truth 0, infer 0\n",
      "index 23, truth 0, infer 0\n",
      "index 24, truth 0, infer 0\n",
      "index 25, truth 0, infer 0\n",
      "index 26, truth 0, infer 1\n",
      "index 27, truth 0, infer 1\n",
      "index 28, truth 1, infer 1\n",
      "index 29, truth 0, infer 0\n",
      "index 30, truth 1, infer 1\n",
      "index 31, truth 1, infer 1\n",
      "index 32, truth 1, infer 1\n",
      "index 33, truth 1, infer 1\n",
      "index 34, truth 1, infer 1\n",
      "index 35, truth 1, infer 1\n",
      "index 36, truth 1, infer 1\n",
      "index 37, truth 1, infer 1\n",
      "index 38, truth 1, infer 0\n",
      "index 39, truth 1, infer 1\n",
      "index 40, truth 0, infer 1\n",
      "index 41, truth 1, infer 1\n",
      "index 42, truth 1, infer 1\n",
      "index 43, truth 1, infer 0\n",
      "index 44, truth 0, infer 0\n",
      "index 45, truth 0, infer 0\n",
      "index 46, truth 1, infer 1\n",
      "index 47, truth 1, infer 1\n",
      "index 48, truth 1, infer 1\n",
      "index 49, truth 1, infer 1\n",
      "test accuracy 82.0%\n"
     ]
    }
   ],
   "source": [
    "# 模型评估\n",
    "with fluid.dygraph.guard(fluid.CUDAPlace(0)):\n",
    "    # 读取模型\n",
    "    # 参数为保存模型参数的文件地址\n",
    "    model_dict, _ = fluid.load_dygraph('catornocat')\n",
    "    # 加载模型参数\n",
    "    model.load_dict(model_dict)\n",
    "    #评估模式\n",
    "    model.eval()\n",
    "    \n",
    "    # 读取测试集数据\n",
    "    data = next(test_reader())\n",
    "\n",
    "    # 调整数据shape使之适合模型\n",
    "    images = np.array([x[0].reshape(DATA_DIM) for x in data],np.float32)\n",
    "    labels = np.array([x[1] for x in data]).astype('int64').reshape(1, -1)[0]\n",
    "    \n",
    "    # 将numpy数据转为飞桨动态图variable形式\n",
    "    image = fluid.dygraph.to_variable(images)\n",
    "    \n",
    "    # 前向计算\n",
    "    predict = model(image)\n",
    "\n",
    "    # 统计预测结果\n",
    "    # 将预测结果转为numpy数据类型\n",
    "    predict = predict.numpy()\n",
    "    predict = np.argmax(predict, axis = 1)\n",
    "    \n",
    "    # 记录预测正确的样本数量\n",
    "    num = 0\n",
    "    for index in range(len(predict)):\n",
    "        if labels[index] == predict[index]:\n",
    "            num += 1    \n",
    "        print(\"index {}, truth {}, infer {}\".format(index, labels[index], predict[index]))\n",
    "    print(\"test accuracy {}%\".format(num/len(predict)*100))"
   ]
  },
  {
   "cell_type": "code",
   "execution_count": 12,
   "metadata": {},
   "outputs": [
    {
     "data": {
      "image/png": "[encoded data removed]",
      "text/plain": [
       "<Figure size 432x288 with 1 Axes>"
      ]
     },
     "metadata": {},
     "output_type": "display_data"
    },
    {
     "name": "stdout",
     "output_type": "stream",
     "text": [
      "\n",
      "The label of this picture is 1.0, 1 means it's a cat picture, 0 means not \n",
      "You predict that it's a cat picture. \n",
      "Congrats!\n"
     ]
    }
   ],
   "source": [
    "# 使用单张图片测试\n",
    "# 预览测试图片\n",
    "index = 11\n",
    "image = np.reshape(TEST_SET[index][:-1], (64, 64, 3))\n",
    "plt.imshow(image)\n",
    "plt.show()\n",
    "print(\n",
    "        \"\\nThe label of this picture is \" + str(TEST_SET[index, -1])\n",
    "        + \", 1 means it's a cat picture, 0 means not \"\n",
    "        + \"\\nYou predict that it's a \"\n",
    "        + CLASSES[int(predict[index])].decode(\"utf-8\")\n",
    "        + \" picture. \\nCongrats!\"\n",
    "    )"
   ]
  },
  {
   "cell_type": "markdown",
   "metadata": {},
   "source": [
    "请点击[此处](https://ai.baidu.com/docs#/AIStudio_Project_Notebook/a38e5576)查看本环境基本用法.  <br>\n",
    "Please click [here ](https://ai.baidu.com/docs#/AIStudio_Project_Notebook/a38e5576) for more detailed instructions. "
   ]
  }
 ],
 "metadata": {
  "kernelspec": {
   "display_name": "Python 3",
   "language": "python",
   "name": "python3"
  },
  "language_info": {
   "codemirror_mode": {
    "name": "ipython",
    "version": 3
   },
   "file_extension": ".py",
   "mimetype": "text/x-python",
   "name": "python",
   "nbconvert_exporter": "python",
   "pygments_lexer": "ipython3",
   "version": "3.7.4"
  }
 },
 "nbformat": 4,
 "nbformat_minor": 1
}
